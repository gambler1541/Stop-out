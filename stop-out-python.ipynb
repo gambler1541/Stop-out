{
 "cells": [
  {
   "cell_type": "markdown",
   "metadata": {},
   "source": [
    "# Stopout 퀴즈\n",
    "\n",
    "# 인터넷 검색 및 기존 코드 검색 가능합니다. 제한시간은 2시간 30분입니다.\n",
    "\n",
    "## 파이썬\n",
    "\n",
    "### 1. 다음 리스트를 사용해 아래와 같은 문자열을 만들어 `girlsday_info`변수에 할당한 후, 콘솔에 내용을 출력하시오. [5점]\n",
    "\n",
    "리스트\n",
    "\n",
    "python\n",
    "girlsday_members = ['민아', '혜리', '유라', '소진']\n",
    "\n",
    "\n",
    "결과 문자열\n",
    "\n",
    "\n",
    "- 민아\n",
    "- 혜리\n",
    "- 유라\n",
    "- 소진\n",
    "\n"
   ]
  },
  {
   "cell_type": "code",
   "execution_count": 103,
   "metadata": {},
   "outputs": [],
   "source": [
    "girlsday_members = ['민아', '혜리', '유라', '소진']\n"
   ]
  },
  {
   "cell_type": "code",
   "execution_count": 104,
   "metadata": {},
   "outputs": [],
   "source": [
    "girlsday_info = ''.join([f'-{i}\\n' for i in girlsday_members])"
   ]
  },
  {
   "cell_type": "code",
   "execution_count": 105,
   "metadata": {},
   "outputs": [
    {
     "name": "stdout",
     "output_type": "stream",
     "text": [
      "-민아\n",
      "-혜리\n",
      "-유라\n",
      "-소진\n",
      "\n"
     ]
    }
   ],
   "source": [
    "print(girlsday_info)"
   ]
  },
  {
   "cell_type": "markdown",
   "metadata": {},
   "source": [
    "\n",
    "### 2. `fruit_dict`객체를 사용해서 아래와 같은 결과값을 갖는 문자열을 만들어 `fruit_info`변수에 할당 한 후, 콘솔에 내용을 출력하시오. [10점]\n",
    "\n",
    "```\n",
    "fruit_dict = {\n",
    "    'red': 'apple',\n",
    "    'yellow': 'banana',\n",
    "    'green': 'melon',\n",
    "}\n",
    "```\n",
    "\n",
    "결과 문자열\n",
    "\n",
    "```\n",
    "[0] RED: Apple\n",
    "[1] YELLOW: Banana\n",
    "[2] GREEN: Melon\n",
    "\n",
    "# 어렵다면 아래 형태를 만든다\n",
    "\n",
    "red: apple\n",
    "yellow: banana\n",
    "green: melon\n",
    "\n",
    "- index 미출력시: -2\n",
    "- 키의 대문자화 미구현시: -2\n",
    "- 값의 첫 번째 글자 대문자화 미구현시: -2"
   ]
  },
  {
   "cell_type": "code",
   "execution_count": 10,
   "metadata": {},
   "outputs": [],
   "source": [
    "fruit_dict = {\n",
    "    'red': 'apple',\n",
    "    'yellow': 'banana',\n",
    "    'green': 'melon',\n",
    "}"
   ]
  },
  {
   "cell_type": "code",
   "execution_count": 108,
   "metadata": {},
   "outputs": [
    {
     "ename": "AttributeError",
     "evalue": "'str' object has no attribute 'key'",
     "output_type": "error",
     "traceback": [
      "\u001b[0;31m---------------------------------------------------------------------------\u001b[0m",
      "\u001b[0;31mAttributeError\u001b[0m                            Traceback (most recent call last)",
      "\u001b[0;32m<ipython-input-108-1d0e4d695985>\u001b[0m in \u001b[0;36m<module>\u001b[0;34m()\u001b[0m\n\u001b[1;32m      1\u001b[0m \u001b[0;32mfor\u001b[0m \u001b[0mi\u001b[0m \u001b[0;32min\u001b[0m \u001b[0mfruit_dict\u001b[0m\u001b[0;34m:\u001b[0m\u001b[0;34m\u001b[0m\u001b[0m\n\u001b[0;32m----> 2\u001b[0;31m     \u001b[0mprint\u001b[0m\u001b[0;34m(\u001b[0m\u001b[0;34mf'color: {i.key()} fruit: {k.value()}'\u001b[0m\u001b[0;34m)\u001b[0m\u001b[0;34m\u001b[0m\u001b[0m\n\u001b[0m",
      "\u001b[0;31mAttributeError\u001b[0m: 'str' object has no attribute 'key'"
     ]
    }
   ],
   "source": []
  },
  {
   "cell_type": "markdown",
   "metadata": {},
   "source": [
    "### 3. list의 `copy()`메서드가 하는 일과, `copy()`를 사용하지 않았을 때 발생할 수 있는 오류에 대한 예제 코드를 작성하시오. [10점]\n",
    "\n",
    "    python에서 리스트를 복사할 때 새로운 메모리 주소를 할당하는게 아니라 기존의 리스트의 메모리 주소를 공유하는데,\n",
    "    이렇게 되면 복사한 리스트의 내용이 바뀌었을 경우 원본도 바뀌게 됨, copy()를 이용하면 기존 메모리주소를 공유하는\n",
    "    게 아닌 새로운 메모리 주소를 할당받게 되는데, 이 경우는 복사한 리스트의 내용이 바껴도 원본은 바뀌지 않는다.\n",
    "    \n",
    "    \n",
    "- `copy()`메서드의 설명이 틀렸을 경우: -4"
   ]
  },
  {
   "cell_type": "markdown",
   "metadata": {},
   "source": []
  },
  {
   "cell_type": "markdown",
   "metadata": {},
   "source": [
    "### 4. 1에서 30까지의 숫자 중, 3부터 시작해서 4번째마다의 숫자를 가지는 리스트를 생성하시오. [5점]\n",
    "\n",
    "- 기본점수: 3점\n",
    "- `range`를 사용한 경우: +2\n",
    "\n",
    "결과\n",
    "\n",
    "```\n",
    "[3, 7, 11, 15, 19, 23, 27]\n",
    "```"
   ]
  },
  {
   "cell_type": "code",
   "execution_count": 25,
   "metadata": {},
   "outputs": [
    {
     "data": {
      "text/plain": [
       "[3, 7, 11, 15, 19, 23, 27]"
      ]
     },
     "execution_count": 25,
     "metadata": {},
     "output_type": "execute_result"
    }
   ],
   "source": [
    "[i for i in range(1,31)[2::4]]"
   ]
  },
  {
   "cell_type": "markdown",
   "metadata": {},
   "source": [
    "### 5. dict형 객체인 `obj`가 있다고 할 때, `obj['key']`와 `obj.get('key')`의 차이를 서술하시오. [5점]\n",
    "\n"
   ]
  },
  {
   "cell_type": "markdown",
   "metadata": {},
   "source": [
    "둘다 key를 이용해 value를 얻는다는 공통점이 있다.\n",
    "obj['key']는 키값이 존재하지 않을 경우 key오류를 발생시키고, obj.get('key')는 None값을 리턴한다."
   ]
  },
  {
   "cell_type": "markdown",
   "metadata": {},
   "source": [
    "### 6. 튜플 언패킹에 대해 서술하고, `pokemon_info` 객체를 순회할 때 튜플 언패킹을 사용하는 예제 코드를 작성하시오. [10점]\n",
    "\n",
    "- 틀린서술: -3\n",
    "- 예제코드 미작성: -7\n",
    "\n",
    "```\n",
    "pokemon_info = [\n",
    "    ('피카츄', '전기 타입'),\n",
    "    ('파이리', '불 타입'),\n",
    "    ('꼬부기', '물 타입'),\n",
    "    ('이상해씨', '풀 타입'),\n",
    "]\n",
    "```"
   ]
  },
  {
   "cell_type": "markdown",
   "metadata": {},
   "source": [
    "> 튜플언패킹? 튜플을 여러 변수에 할당하는것"
   ]
  },
  {
   "cell_type": "code",
   "execution_count": 37,
   "metadata": {},
   "outputs": [],
   "source": [
    "pokemon_info = [\n",
    "    ('피카츄', '전기 타입'),\n",
    "    ('파이리', '불 타입'),\n",
    "    ('꼬부기', '물 타입'),\n",
    "    ('이상해씨', '풀 타입'),\n",
    "]"
   ]
  },
  {
   "cell_type": "code",
   "execution_count": 40,
   "metadata": {},
   "outputs": [
    {
     "name": "stdout",
     "output_type": "stream",
     "text": [
      "이름: 피카츄, 타입: 전기 타입\n",
      "이름: 파이리, 타입: 불 타입\n",
      "이름: 꼬부기, 타입: 물 타입\n",
      "이름: 이상해씨, 타입: 풀 타입\n"
     ]
    }
   ],
   "source": [
    "for i,k in pokemon_info:\n",
    "    print(f'이름: {i}, 타입: {k}')"
   ]
  },
  {
   "cell_type": "markdown",
   "metadata": {},
   "source": [
    "\n",
    "### 7. 함수에서 위치인자와 키워드인자의 차이점에 대해 서술하시오. [5점]\n",
    "\n",
    "> 위치인자는 함수를 정의할 때 그 갯수만큼 인자를 넣어주고 키워드인자는 인자의 값뿐만 아니라 이름까지 명시적으로 전달"
   ]
  },
  {
   "cell_type": "code",
   "execution_count": 41,
   "metadata": {},
   "outputs": [],
   "source": [
    "def test(a,b):\n",
    "    return a+b"
   ]
  },
  {
   "cell_type": "code",
   "execution_count": 42,
   "metadata": {},
   "outputs": [
    {
     "data": {
      "text/plain": [
       "3"
      ]
     },
     "execution_count": 42,
     "metadata": {},
     "output_type": "execute_result"
    }
   ],
   "source": [
    "test(1,2)"
   ]
  },
  {
   "cell_type": "code",
   "execution_count": 47,
   "metadata": {},
   "outputs": [],
   "source": [
    "def test1(a=0, b=0):\n",
    "    return a + b"
   ]
  },
  {
   "cell_type": "code",
   "execution_count": 48,
   "metadata": {},
   "outputs": [
    {
     "data": {
      "text/plain": [
       "2"
      ]
     },
     "execution_count": 48,
     "metadata": {},
     "output_type": "execute_result"
    }
   ],
   "source": [
    "test1(a=1,b=1)"
   ]
  },
  {
   "cell_type": "markdown",
   "metadata": {},
   "source": [
    "### 8. 클래스와 인스턴스의 다음 사항들에 대해 서술하시오.\n",
    "\n",
    "- 클래스와 인스턴스의 차이점 [2점]\n",
    "\n",
    "클래스는 클래스인스턴스를 생성하기 위해 생성 클래스로 만들어진 하나의 객체를 클래스인스턴스라고 함\n",
    "\n",
    "- 클래스의 생성자 함수 이름 [1점]\n",
    "\n",
    "def __init__(self, ..)\n",
    "\n",
    "\n",
    "- 클래스의 생성자 함수가 호출되는 시점은? [2점]\n",
    "\n",
    "클래스 인스턴스가 생성될 때 호출\n",
    "\n",
    "\n",
    "- 인스턴스 메서드의 `self`매개변수의 의미 [4점]\n",
    "\n",
    "클래스 인스턴스 자신을 가리킴\n",
    "\n"
   ]
  },
  {
   "cell_type": "markdown",
   "metadata": {},
   "source": [
    "### 9. `property`를 정의하는 방법에 대해 서술하시오. [5점]\n",
    "\n",
    "- `getter`를 만드는 방법에 대해 서술: 2점\n",
    "\n",
    "@property를 선언, setter를 선언하지 않으면 읽기전용이 됨(외부에서 값 변경불가)\n",
    "\n",
    "- `setter`를 만드는 방법에 대해 서술: 3점\n",
    "\n",
    "@property속성이름.setter \n"
   ]
  },
  {
   "cell_type": "markdown",
   "metadata": {},
   "source": [
    "### 10. 아래와 같은 `User`클래스가 있다. 이 클래스를 상속받은 `Student`클래스를 정의하고, 초기화 메서드에서 `name`과 함께`age`라는 매개변수를 추가로 사용해 인스턴스의 `age`속성을 추가로 정의하도록 한다. [10점]\n",
    "\n",
    "- (기본구현) User클래스를 상속: 1\n",
    "- 초기화 메서드 재정의: +3\n",
    "- 초기화 메서드에서 `super`사용: +6\n",
    "\n",
    "```\n",
    "class User:\n",
    "    def __init__(self, name):\n",
    "        self.name = name\n",
    "```"
   ]
  },
  {
   "cell_type": "code",
   "execution_count": 65,
   "metadata": {},
   "outputs": [],
   "source": [
    "class User:\n",
    "    def __init__(self, name):\n",
    "        self.name = name\n",
    "        \n",
    "    \n",
    "    def __repr__(self):\n",
    "        return f'{self.name}, {self.age}'\n",
    "        \n",
    "\n",
    "class Student(User):\n",
    "    def __init__(self, name, age):\n",
    "        super().__init__(name)\n",
    "        self.age = age"
   ]
  },
  {
   "cell_type": "code",
   "execution_count": 68,
   "metadata": {},
   "outputs": [],
   "source": [
    "student = Student('mb', 14)"
   ]
  },
  {
   "cell_type": "code",
   "execution_count": 69,
   "metadata": {},
   "outputs": [
    {
     "data": {
      "text/plain": [
       "mb, 14"
      ]
     },
     "execution_count": 69,
     "metadata": {},
     "output_type": "execute_result"
    }
   ],
   "source": [
    "student"
   ]
  },
  {
   "cell_type": "markdown",
   "metadata": {},
   "source": [
    "### 11. `url`주소로부터 아래 결과를 출력한다. [10점]\n",
    "\n",
    "> 공지사항이 추가되면 결과는 달라질 수 있으므로, 실제 게시판의 목록이 출력되는지 확인\n",
    "> \n",
    "> top이라는 텍스트는 포함되어도 무관\n",
    "\n",
    "```\n",
    "url = 'http://www.leagueoflegends.co.kr/?m=news&cate=notice'\n",
    "```\n",
    "\n",
    "결과 출력\n",
    "\n",
    "```\n",
    "top[#2] 격전을 준비하세요! (수정)\n",
    "top격전 참여시 불건전 행위에 대한 주의사항 안내(수정)\n",
    "6월 6일(수) 서버 점검 안내\n",
    "PBE 인사이드 20화(8.12 패치 편) 방송 안내\n",
    "다시 돌아온 격전! 얼불져스 6/5(화) 방송 일정 안내\n",
    "1일 격전 테스트에 참여해 주세요\n",
    "대리 게임 등 적발 현황 262차 안내\n",
    "부정행위 프로그램 제재 현황 안내\n",
    "MadLife와 함께하는 입롤의 신 - 파이크편\n",
    "무작위 총력전 샤코 챔피언 비활성화 안내 (정상화)\n",
    "얼불져스 성적 예측 이벤트 당첨자 안내\n",
    "수수께끼 피규어(시리즈 2) 할인 판매!\n",
    "```"
   ]
  },
  {
   "cell_type": "code",
   "execution_count": 85,
   "metadata": {
    "scrolled": false
   },
   "outputs": [],
   "source": [
    "import os\n",
    "import requests\n",
    "from bs4 import BeautifulSoup\n",
    "\n",
    "file_path = 'game_list.html'\n",
    "url = 'http://www.leagueoflegends.co.kr/?m=news&cate=notice'\n",
    "if not os.path.exists(file_path):\n",
    "    response = requests.get(url)\n",
    "    res_text = response.text\n",
    "    html = open(file_path, 'wt').write(res_text)\n",
    "else:\n",
    "    html = open(file_path, 'rt').read()"
   ]
  },
  {
   "cell_type": "code",
   "execution_count": 86,
   "metadata": {},
   "outputs": [
    {
     "name": "stdout",
     "output_type": "stream",
     "text": [
      "top[#2] 격전을 준비하세요! (수정)\n",
      "top격전 참여시 불건전 행위에 대한 주의사항 안내(수정)\n",
      "대리 게임 등 적발 현황 263차 안내\n",
      "부정행위 프로그램 제재 현황 안내\n",
      "6월 2차 소환사 문화재지킴이 모집 안내\n",
      "일부 클라이언트 오류 현상에 대한 안내 (정상화)\n",
      "6월 6일(수) 서버 점검 안내 (완료)\n",
      "PBE 인사이드 20화(8.12 패치 편) 방송 안내\n",
      "다시 돌아온 격전! 얼불져스 6/5(화) 방송 일정 안내\n",
      "1일 격전 테스트에 참여해 주세요\n",
      "대리 게임 등 적발 현황 262차 안내\n",
      "부정행위 프로그램 제재 현황 안내\n"
     ]
    }
   ],
   "source": [
    "soup = BeautifulSoup(html, 'lxml')\n",
    "td = soup.select('td.tleft > a')\n",
    "for i in td:\n",
    "    print(i.get_text())"
   ]
  },
  {
   "cell_type": "code",
   "execution_count": null,
   "metadata": {},
   "outputs": [],
   "source": []
  },
  {
   "cell_type": "markdown",
   "metadata": {},
   "source": [
    "\n",
    "### 12. `url`주소에 있는 공지사항에 해당하는 `Notice`클래스를 만들고, 크롤링시 공지사항 하나마다 `Notice`클래스 인스턴스를 만들어 `notice_list`리스트에 추가한다. [10점]\n"
   ]
  },
  {
   "cell_type": "code",
   "execution_count": 161,
   "metadata": {},
   "outputs": [],
   "source": [
    "class Notice:\n",
    "    def __init__(self, notice):\n",
    "        self.notice = notice\n",
    "        \n",
    "    def __str__(self):\n",
    "        return self.notice\n",
    "    \n",
    "        "
   ]
  },
  {
   "cell_type": "code",
   "execution_count": 162,
   "metadata": {},
   "outputs": [],
   "source": [
    "def crawler():\n",
    "    file_path = 'game_list.html'\n",
    "    url = 'http://www.leagueoflegends.co.kr/?m=news&cate=notice'\n",
    "    if not os.path.exists(file_path):\n",
    "        response = requests.get(url)\n",
    "        res_text = response.text\n",
    "        html = open(file_path, 'wt').write(res_text)\n",
    "    else:\n",
    "        html = open(file_path, 'rt').read()\n",
    "        \n",
    "    soup = BeautifulSoup(html, 'lxml')\n",
    "    td = soup.select('td.tleft > a')\n",
    "    notice_list = []\n",
    "    for nt in td:\n",
    "        text = nt.get_text()\n",
    "        notice = Notice(text)\n",
    "        notice_list.append(notice)\n",
    "    return notice_list\n",
    "    \n",
    "\n",
    "        \n",
    "    "
   ]
  },
  {
   "cell_type": "code",
   "execution_count": 163,
   "metadata": {},
   "outputs": [],
   "source": [
    "lol_notice = crawler()"
   ]
  },
  {
   "cell_type": "code",
   "execution_count": 166,
   "metadata": {},
   "outputs": [
    {
     "name": "stdout",
     "output_type": "stream",
     "text": [
      "top[#2] 격전을 준비하세요! (수정)\n",
      "top격전 참여시 불건전 행위에 대한 주의사항 안내(수정)\n",
      "대리 게임 등 적발 현황 263차 안내\n",
      "부정행위 프로그램 제재 현황 안내\n",
      "6월 2차 소환사 문화재지킴이 모집 안내\n",
      "일부 클라이언트 오류 현상에 대한 안내 (정상화)\n",
      "6월 6일(수) 서버 점검 안내 (완료)\n",
      "PBE 인사이드 20화(8.12 패치 편) 방송 안내\n",
      "다시 돌아온 격전! 얼불져스 6/5(화) 방송 일정 안내\n",
      "1일 격전 테스트에 참여해 주세요\n",
      "대리 게임 등 적발 현황 262차 안내\n",
      "부정행위 프로그램 제재 현황 안내\n"
     ]
    }
   ],
   "source": [
    "for i in lol_notice:\n",
    "    print(i)"
   ]
  },
  {
   "cell_type": "markdown",
   "metadata": {},
   "source": [
    "### 13. runserver가 localhost:8000에서 입력을 받는 상태로 동작 중일 때, 브라우저에서 `http://localhost:8000/abc/`URL을 입력하면 어떤 절차를 거쳐 사용자에게 다시 화면을 보여주는지 서술하시오. [10점]\n",
    "\n",
    "브라우저 -> (request)요청을받음 -> Django -> urlresolver -> view function -> return HttpResponse()"
   ]
  },
  {
   "cell_type": "code",
   "execution_count": null,
   "metadata": {},
   "outputs": [],
   "source": []
  }
 ],
 "metadata": {
  "kernelspec": {
   "display_name": "Python 3",
   "language": "python",
   "name": "python3"
  },
  "language_info": {
   "codemirror_mode": {
    "name": "ipython",
    "version": 3
   },
   "file_extension": ".py",
   "mimetype": "text/x-python",
   "name": "python",
   "nbconvert_exporter": "python",
   "pygments_lexer": "ipython3",
   "version": "3.6.5"
  }
 },
 "nbformat": 4,
 "nbformat_minor": 2
}
